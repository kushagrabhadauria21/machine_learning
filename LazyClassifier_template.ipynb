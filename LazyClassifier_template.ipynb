{
 "cells": [
  {
   "cell_type": "markdown",
   "id": "18d67b8f",
   "metadata": {},
   "source": [
    "\n",
    "## importing libraries \n",
    "\n",
    "\n"
   ]
  },
  {
   "cell_type": "code",
   "execution_count": 14,
   "id": "78a06601",
   "metadata": {},
   "outputs": [],
   "source": [
    "from lazypredict.Supervised import LazyClassifier\n",
    "from sklearn.datasets import load_breast_cancer\n"
   ]
  },
  {
   "cell_type": "code",
   "execution_count": 15,
   "id": "f86b3278",
   "metadata": {},
   "outputs": [],
   "source": [
    "data=load_breast_cancer()\n",
    "X=data.data\n",
    "y=data.target"
   ]
  },
  {
   "cell_type": "code",
   "execution_count": 16,
   "id": "8d1c358b",
   "metadata": {},
   "outputs": [],
   "source": [
    "from sklearn.model_selection import train_test_split\n",
    "X_train, X_test, y_train, y_test= train_test_split(X,y,test_size=0.2,random_state=0)"
   ]
  },
  {
   "cell_type": "markdown",
   "id": "5388b266",
   "metadata": {},
   "source": [
    "## fitting the classifier"
   ]
  },
  {
   "cell_type": "code",
   "execution_count": 17,
   "id": "4d2ff910",
   "metadata": {},
   "outputs": [
    {
     "name": "stderr",
     "output_type": "stream",
     "text": [
      "100%|██████████████████████████████████████████████████████████████████████████████████| 29/29 [00:02<00:00, 10.86it/s]"
     ]
    },
    {
     "name": "stdout",
     "output_type": "stream",
     "text": [
      "                               Accuracy  Balanced Accuracy  ROC AUC  F1 Score  \\\n",
      "Model                                                                           \n",
      "XGBClassifier                      0.98               0.98     0.98      0.98   \n",
      "SVC                                0.98               0.98     0.98      0.98   \n",
      "RandomForestClassifier             0.97               0.97     0.97      0.97   \n",
      "LGBMClassifier                     0.97               0.97     0.97      0.97   \n",
      "LogisticRegression                 0.96               0.96     0.96      0.96   \n",
      "SGDClassifier                      0.96               0.96     0.96      0.96   \n",
      "PassiveAggressiveClassifier        0.96               0.96     0.96      0.96   \n",
      "AdaBoostClassifier                 0.96               0.96     0.96      0.96   \n",
      "LinearDiscriminantAnalysis         0.96               0.96     0.96      0.96   \n",
      "CalibratedClassifierCV             0.96               0.96     0.96      0.96   \n",
      "RidgeClassifier                    0.96               0.96     0.96      0.96   \n",
      "RidgeClassifierCV                  0.96               0.96     0.96      0.96   \n",
      "QuadraticDiscriminantAnalysis      0.96               0.96     0.96      0.96   \n",
      "LabelPropagation                   0.96               0.95     0.95      0.96   \n",
      "LabelSpreading                     0.96               0.95     0.95      0.96   \n",
      "BaggingClassifier                  0.95               0.95     0.95      0.95   \n",
      "LinearSVC                          0.95               0.95     0.95      0.95   \n",
      "KNeighborsClassifier               0.96               0.95     0.95      0.96   \n",
      "ExtraTreesClassifier               0.95               0.94     0.94      0.95   \n",
      "NuSVC                              0.95               0.94     0.94      0.95   \n",
      "BernoulliNB                        0.93               0.94     0.94      0.93   \n",
      "NearestCentroid                    0.93               0.92     0.92      0.93   \n",
      "DecisionTreeClassifier             0.91               0.92     0.92      0.91   \n",
      "ExtraTreeClassifier                0.91               0.91     0.91      0.91   \n",
      "GaussianNB                         0.90               0.90     0.90      0.90   \n",
      "Perceptron                         0.87               0.87     0.87      0.87   \n",
      "DummyClassifier                    0.59               0.50     0.50      0.44   \n",
      "\n",
      "                               Time Taken  \n",
      "Model                                      \n",
      "XGBClassifier                        0.17  \n",
      "SVC                                  0.04  \n",
      "RandomForestClassifier               0.46  \n",
      "LGBMClassifier                       0.38  \n",
      "LogisticRegression                   0.04  \n",
      "SGDClassifier                        0.04  \n",
      "PassiveAggressiveClassifier          0.02  \n",
      "AdaBoostClassifier                   0.31  \n",
      "LinearDiscriminantAnalysis           0.03  \n",
      "CalibratedClassifierCV               0.04  \n",
      "RidgeClassifier                      0.04  \n",
      "RidgeClassifierCV                    0.04  \n",
      "QuadraticDiscriminantAnalysis        0.03  \n",
      "LabelPropagation                     0.06  \n",
      "LabelSpreading                       0.06  \n",
      "BaggingClassifier                    0.12  \n",
      "LinearSVC                            0.03  \n",
      "KNeighborsClassifier                 0.19  \n",
      "ExtraTreesClassifier                 0.17  \n",
      "NuSVC                                0.04  \n",
      "BernoulliNB                          0.01  \n",
      "NearestCentroid                      0.23  \n",
      "DecisionTreeClassifier               0.02  \n",
      "ExtraTreeClassifier                  0.01  \n",
      "GaussianNB                           0.01  \n",
      "Perceptron                           0.03  \n",
      "DummyClassifier                      0.01  \n"
     ]
    },
    {
     "name": "stderr",
     "output_type": "stream",
     "text": [
      "\n"
     ]
    }
   ],
   "source": [
    "clf = LazyClassifier(verbose=0, ignore_warnings=True, custom_metric=None)\n",
    "models,predictions= clf.fit(X_train, X_test, y_train, y_test)\n",
    "print(models)"
   ]
  },
  {
   "cell_type": "code",
   "execution_count": null,
   "id": "533f31d4",
   "metadata": {},
   "outputs": [],
   "source": []
  }
 ],
 "metadata": {
  "kernelspec": {
   "display_name": "Python 3 (ipykernel)",
   "language": "python",
   "name": "python3"
  },
  "language_info": {
   "codemirror_mode": {
    "name": "ipython",
    "version": 3
   },
   "file_extension": ".py",
   "mimetype": "text/x-python",
   "name": "python",
   "nbconvert_exporter": "python",
   "pygments_lexer": "ipython3",
   "version": "3.9.12"
  }
 },
 "nbformat": 4,
 "nbformat_minor": 5
}
